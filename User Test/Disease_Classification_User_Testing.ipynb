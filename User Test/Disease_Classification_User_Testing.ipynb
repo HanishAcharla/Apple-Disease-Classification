{
  "nbformat": 4,
  "nbformat_minor": 0,
  "metadata": {
    "colab": {
      "provenance": [],
      "gpuType": "A100"
    },
    "kernelspec": {
      "name": "python3",
      "display_name": "Python 3"
    },
    "language_info": {
      "name": "python"
    },
    "accelerator": "GPU"
  },
  "cells": [
    {
      "cell_type": "code",
      "execution_count": null,
      "metadata": {
        "id": "gn4K3wRt1kZI"
      },
      "outputs": [],
      "source": [
        "import tensorflow as tf\n",
        "import numpy as np\n",
        "from tensorflow.keras.preprocessing import image\n",
        "from tensorflow.keras.applications.resnet50 import preprocess_input\n",
        "\n",
        "# Load the trained model from Google Drive\n",
        "def load_model(model_path):\n",
        "    model = tf.keras.models.load_model(model_path)\n",
        "    return model\n",
        "\n",
        "# Preprocess the image for ResNet-50\n",
        "def preprocess_image(img_path):\n",
        "    img = image.load_img(img_path, target_size=(224, 224))  # ResNet-50 input size\n",
        "    img_array = image.img_to_array(img)\n",
        "    img_array = np.expand_dims(img_array, axis=0)  # Add batch dimension\n",
        "    img_array = preprocess_input(img_array)  # Normalize using ResNet preprocessing\n",
        "    return img_array\n",
        "\n",
        "# Predict the class\n",
        "def classify_image(model, img_path, class_names):\n",
        "    img_array = preprocess_image(img_path)\n",
        "    predictions = model.predict(img_array)\n",
        "    predicted_class = np.argmax(predictions, axis=1)[0]  # Get the class index\n",
        "    return class_names[predicted_class]\n",
        "\n",
        "# Example usage\n",
        "model_path = \"/content/drive/MyDrive/1:1_Hanish_Acharla/Models/ResNet_50_Best_Model.h5\"\n",
        "class_names = ['Complex', 'Frog_Eye_Leaf_Spot', 'Healthy', 'Powdery_Mildew', 'Rust', 'Scab']  # Replace with actual class labels\n",
        "model = load_model(model_path)\n",
        "result = classify_image(model, \"/content/8a5c2ed32fdb6882.jpg\", class_names)\n",
        "print(\"Predicted class:\", result)\n"
      ]
    }
  ]
}